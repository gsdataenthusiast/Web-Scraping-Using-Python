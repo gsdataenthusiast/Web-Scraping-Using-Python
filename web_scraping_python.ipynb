{
 "cells": [
  {
   "cell_type": "markdown",
   "metadata": {
    "nbgrader": {
     "grade": true,
     "grade_id": "LabEx2a-Name",
     "locked": false,
     "points": 0,
     "schema_version": 1,
     "solution": true
    }
   },
   "source": [
    "## GAJALAKSHMI SAKTHIVEL"
   ]
  },
  {
   "cell_type": "markdown",
   "metadata": {
    "nbgrader": {
     "grade": false,
     "grade_id": "cell-ffc2a0bca5513249",
     "locked": true,
     "schema_version": 1,
     "solution": false
    }
   },
   "source": [
    "Importing required Libraries"
   ]
  },
  {
   "cell_type": "code",
   "execution_count": 3,
   "metadata": {
    "nbgrader": {
     "grade": false,
     "grade_id": "cell-a893dad51f88e2d0",
     "locked": true,
     "schema_version": 1,
     "solution": false
    }
   },
   "outputs": [],
   "source": [
    "import requests\n",
    "from bs4 import BeautifulSoup\n",
    "import time"
   ]
  },
  {
   "cell_type": "markdown",
   "metadata": {
    "nbgrader": {
     "grade": false,
     "grade_id": "cell-51f01348020abe2a",
     "locked": true,
     "schema_version": 1,
     "solution": false
    }
   },
   "source": [
    "**Using the requests library request the page https://ucdh.github.io/scraping-garden-party/ and using CSS selector and BeautifulSoup's .select() filter to print the URL for each of the 15 pages containing short stories.**  \n",
    "\n"
   ]
  },
  {
   "cell_type": "code",
   "execution_count": 4,
   "metadata": {},
   "outputs": [
    {
     "name": "stdout",
     "output_type": "stream",
     "text": [
      "https://ucdh.github.io/scraping-garden-party/at-the-bay.html\n",
      "https://ucdh.github.io/scraping-garden-party/the-garden-party.html\n",
      "https://ucdh.github.io/scraping-garden-party/daughters-late-colonel.html\n",
      "https://ucdh.github.io/scraping-garden-party/mr-and-mrs-dove.html\n",
      "https://ucdh.github.io/scraping-garden-party/the-young-girl.html\n",
      "https://ucdh.github.io/scraping-garden-party/life-of-ma-parker.html\n",
      "https://ucdh.github.io/scraping-garden-party/marriage-a-la-mode.html\n",
      "https://ucdh.github.io/scraping-garden-party/the-voyage.html\n",
      "https://ucdh.github.io/scraping-garden-party/miss-brill.html\n",
      "https://ucdh.github.io/scraping-garden-party/her-first-ball.html\n",
      "https://ucdh.github.io/scraping-garden-party/the-singing-lesson.html\n",
      "https://ucdh.github.io/scraping-garden-party/the-stranger.html\n",
      "https://ucdh.github.io/scraping-garden-party/bank-holiday.html\n",
      "https://ucdh.github.io/scraping-garden-party/an-ideal-family.html\n",
      "https://ucdh.github.io/scraping-garden-party/the-lady-s-maid.html\n"
     ]
    }
   ],
   "source": [
    "url = 'https://ucdh.github.io/scraping-garden-party/'\n",
    "response = requests.get(url)\n",
    "soup = BeautifulSoup(response.text, \"html.parser\")\n",
    "stories = soup.select('li')##select all list items\n",
    "for story in stories:\n",
    "    link = story.a ##child of the list items\n",
    "    URL = 'https://ucdh.github.io' + link['href']\n",
    "    print(URL)"
   ]
  },
  {
   "cell_type": "markdown",
   "metadata": {
    "nbgrader": {
     "grade": false,
     "grade_id": "cell-2775bbb3862e0a6b",
     "locked": true,
     "schema_version": 1,
     "solution": false
    }
   },
   "source": [
    "**looping through the links to each of the 15 pages containing short stories, and:**  \n",
    "    * print out the full URL of each short story page  \n",
    "    * retrieve the HTML of each short story page  \n",
    "    * print out the text of the introductory section of each short story page.   `"
   ]
  },
  {
   "cell_type": "code",
   "execution_count": 7,
   "metadata": {},
   "outputs": [
    {
     "name": "stdout",
     "output_type": "stream",
     "text": [
      "https://ucdh.github.io/scraping-garden-party/at-the-bay.html\n",
      "Very early morning. The sun was not yet risen, and the whole of\n",
      "Crescent Bay was hidden under a white sea-mist. The big bush-covered\n",
      "hills at the back were smothered. You could not see where they ended\n",
      "and the paddocks and bungalows began. The sandy road was gone and the\n",
      "paddocks and bungalows the other side of it; there were no white dunes\n",
      "covered with reddish grass beyond them; there was nothing to mark which\n",
      "was beach and where was the sea. A heavy dew had fallen. The grass was\n",
      "blue. Big drops hung on the bushes and just did not fall; the silvery,\n",
      "fluffy toi-toi was limp on its long stalks, and all the marigolds and\n",
      "the pinks in the bungalow gardens were bowed to the earth with wetness.\n",
      "Drenched were the cold fuchsias, round pearls of dew lay on the flat\n",
      "nasturtium leaves. It looked as though the sea had beaten up softly in\n",
      "the darkness, as though one immense wave had come rippling,\n",
      "rippling—how far? Perhaps if you had waked up in the middle of the\n",
      "night you might have seen a big fish flicking in at the window and gone\n",
      "again....\n",
      "https://ucdh.github.io/scraping-garden-party/the-garden-party.html\n",
      "And after all the weather was ideal. They could not have had a more\n",
      "perfect day for a garden-party if they had ordered it. Windless, warm,\n",
      "the sky without a cloud. Only the blue was veiled with a haze of light\n",
      "gold, as it is sometimes in early summer. The gardener had been up\n",
      "since dawn, mowing the lawns and sweeping them, until the grass and the\n",
      "dark flat rosettes where the daisy plants had been seemed to shine. As\n",
      "for the roses, you could not help feeling they understood that roses\n",
      "are the only flowers that impress people at garden-parties; the only\n",
      "flowers that everybody is certain of knowing. Hundreds, yes, literally\n",
      "hundreds, had come out in a single night; the green bushes bowed down\n",
      "as though they had been visited by archangels.\n",
      "https://ucdh.github.io/scraping-garden-party/daughters-late-colonel.html\n",
      "The week after was one of the busiest weeks of their lives. Even when\n",
      "they went to bed it was only their bodies that lay down and rested;\n",
      "their minds went on, thinking things out, talking things over,\n",
      "wondering, deciding, trying to remember where....\n",
      "https://ucdh.github.io/scraping-garden-party/mr-and-mrs-dove.html\n",
      "Of course he knew—no man better—that he hadn’t a ghost of a chance, he\n",
      "hadn’t an earthly. The very idea of such a thing was preposterous. So\n",
      "preposterous that he’d perfectly understand it if her father—well,\n",
      "whatever her father chose to do he’d perfectly understand. In fact,\n",
      "nothing short of desperation, nothing short of the fact that this was\n",
      "positively his last day in England for God knows how long, would have\n",
      "screwed him up to it. And even now.... He chose a tie out of the chest\n",
      "of drawers, a blue and cream check tie, and sat on the side of his bed.\n",
      "Supposing she replied, “What impertinence!” would he be surprised? Not\n",
      "in the least, he decided, turning up his soft collar and turning it\n",
      "down over the tie. He expected her to say something like that. He\n",
      "didn’t see, if he looked at the affair dead soberly, what else she\n",
      "could say.\n",
      "https://ucdh.github.io/scraping-garden-party/the-young-girl.html\n",
      "In her blue dress, with her cheeks lightly flushed, her blue, blue\n",
      "eyes, and her gold curls pinned up as though for the first time—pinned\n",
      "up to be out of the way for her flight—Mrs. Raddick’s daughter might\n",
      "have just dropped from this radiant heaven. Mrs. Raddick’s timid,\n",
      "faintly astonished, but deeply admiring glance looked as if she\n",
      "believed it, too; but the daughter didn’t appear any too pleased—why\n",
      "should she?—to have alighted on the steps of the Casino. Indeed, she\n",
      "was bored—bored as though Heaven had been full of casinos with snuffy\n",
      "old saints for _croupiers_ and crowns to play with.\n",
      "https://ucdh.github.io/scraping-garden-party/life-of-ma-parker.html\n",
      "When the literary gentleman, whose flat old Ma Parker cleaned every\n",
      "Tuesday, opened the door to her that morning, he asked after her\n",
      "grandson. Ma Parker stood on the doormat inside the dark little hall,\n",
      "and she stretched out her hand to help her gentleman shut the door\n",
      "before she replied. “We buried ’im yesterday, sir,” she said quietly.\n",
      "https://ucdh.github.io/scraping-garden-party/marriage-a-la-mode.html\n",
      "On his way to the station William remembered with a fresh pang of\n",
      "disappointment that he was taking nothing down to the kiddies. Poor\n",
      "little chaps! It was hard lines on them. Their first words always were\n",
      "as they ran to greet him, “What have you got for me, daddy?” and he had\n",
      "nothing. He would have to buy them some sweets at the station. But that\n",
      "was what he had done for the past four Saturdays; their faces had\n",
      "fallen last time when they saw the same old boxes produced again.\n",
      "https://ucdh.github.io/scraping-garden-party/the-voyage.html\n",
      "The Picton boat was due to leave at half-past eleven. It was a\n",
      "beautiful night, mild, starry, only when they got out of the cab and\n",
      "started to walk down the Old Wharf that jutted out into the harbour, a\n",
      "faint wind blowing off the water ruffled under Fenella’s hat, and she\n",
      "put up her hand to keep it on. It was dark on the Old Wharf, very dark;\n",
      "the wool sheds, the cattle trucks, the cranes standing up so high, the\n",
      "little squat railway engine, all seemed carved out of solid darkness.\n",
      "Here and there on a rounded wood-pile, that was like the stalk of a\n",
      "huge black mushroom, there hung a lantern, but it seemed afraid to\n",
      "unfurl its timid, quivering light in all that blackness; it burned\n",
      "softly, as if for itself.\n",
      "https://ucdh.github.io/scraping-garden-party/miss-brill.html\n",
      "Although it was so brilliantly fine—the blue sky powdered with gold and\n",
      "great spots of light like white wine splashed over the Jardins\n",
      "Publiques—Miss Brill was glad that she had decided on her fur. The air\n",
      "was motionless, but when you opened your mouth there was just a faint\n",
      "chill, like a chill from a glass of iced water before you sip, and now\n",
      "and again a leaf came drifting—from nowhere, from the sky. Miss Brill\n",
      "put up her hand and touched her fur. Dear little thing! It was nice to\n",
      "feel it again. She had taken it out of its box that afternoon, shaken\n",
      "out the moth-powder, given it a good brush, and rubbed the life back\n",
      "into the dim little eyes. “What has been happening to me?” said the sad\n",
      "little eyes. Oh, how sweet it was to see them snap at her again from\n",
      "the red eiderdown!... But the nose, which was of some black\n",
      "composition, wasn’t at all firm. It must have had a knock, somehow.\n",
      "Never mind—a little dab of black sealing-wax when the time came—when it\n",
      "was absolutely necessary.... Little rogue! Yes, she really felt like\n",
      "that about it. Little rogue biting its tail just by her left ear. She\n",
      "could have taken it off and laid it on her lap and stroked it. She felt\n",
      "a tingling in her hands and arms, but that came from walking, she\n",
      "supposed. And when she breathed, something light and sad—no, not sad,\n",
      "exactly—something gentle seemed to move in her bosom.\n",
      "https://ucdh.github.io/scraping-garden-party/her-first-ball.html\n",
      "Exactly when the ball began Leila would have found it hard to say.\n",
      "Perhaps her first real partner was the cab. It did not matter that she\n",
      "shared the cab with the Sheridan girls and their brother. She sat back\n",
      "in her own little corner of it, and the bolster on which her hand\n",
      "rested felt like the sleeve of an unknown young man’s dress suit; and\n",
      "away they bowled, past waltzing lamp-posts and houses and fences and\n",
      "trees.\n",
      "https://ucdh.github.io/scraping-garden-party/the-singing-lesson.html\n",
      "With despair—cold, sharp despair—buried deep in her heart like a wicked\n",
      "knife, Miss Meadows, in cap and gown and carrying a little baton, trod\n",
      "the cold corridors that led to the music hall. Girls of all ages, rosy\n",
      "from the air, and bubbling over with that gleeful excitement that comes\n",
      "from running to school on a fine autumn morning, hurried, skipped,\n",
      "fluttered by; from the hollow class-rooms came a quick drumming of\n",
      "voices; a bell rang; a voice like a bird cried, “Muriel.” And then\n",
      "there came from the staircase a tremendous knock-knock-knocking. Some\n",
      "one had dropped her dumbbells.\n",
      "https://ucdh.github.io/scraping-garden-party/the-stranger.html\n",
      "It seemed to the little crowd on the wharf that she was never going to\n",
      "move again. There she lay, immense, motionless on the grey crinkled\n",
      "water, a loop of smoke above her, an immense flock of gulls screaming\n",
      "and diving after the galley droppings at the stern. You could just see\n",
      "little couples parading—little flies walking up and down the dish on\n",
      "the grey crinkled tablecloth. Other flies clustered and swarmed at the\n",
      "edge. Now there was a gleam of white on the lower deck—the cook’s apron\n",
      "or the stewardess perhaps. Now a tiny black spider raced up the ladder\n",
      "on to the bridge.\n",
      "https://ucdh.github.io/scraping-garden-party/bank-holiday.html\n",
      "A stout man with a pink face wears dingy white flannel trousers, a blue\n",
      "coat with a pink handkerchief showing, and a straw hat much too small\n",
      "for him, perched at the back of his head. He plays the guitar. A little\n",
      "chap in white canvas shoes, his face hidden under a felt hat like a\n",
      "broken wing, breathes into a flute; and a tall thin fellow, with\n",
      "bursting over-ripe button boots, draws ribbons—long, twisted, streaming\n",
      "ribbons—of tune out of a fiddle. They stand, unsmiling, but not\n",
      "serious, in the broad sunlight opposite the fruit-shop; the pink spider\n",
      "of a hand beats the guitar, the little squat hand, with a\n",
      "brass-and-turquoise ring, forces the reluctant flute, and the fiddler’s\n",
      "arm tries to saw the fiddle in two.\n",
      "https://ucdh.github.io/scraping-garden-party/an-ideal-family.html\n",
      "That evening for the first time in his life, as he pressed through the\n",
      "swing door and descended the three broad steps to the pavement, old Mr.\n",
      "Neave felt he was too old for the spring. Spring—warm, eager,\n",
      "restless—was there, waiting for him in the golden light, ready in front\n",
      "of everybody to run up, to blow in his white beard, to drag sweetly on\n",
      "his arm. And he couldn’t meet her, no; he couldn’t square up once more\n",
      "and stride off, jaunty as a young man. He was tired and, although the\n",
      "late sun was still shining, curiously cold, with a numbed feeling all\n",
      "over. Quite suddenly he hadn’t the energy, he hadn’t the heart to stand\n",
      "this gaiety and bright movement any longer; it confused him. He wanted\n",
      "to stand still, to wave it away with his stick, to say, “Be off with\n",
      "you!” Suddenly it was a terrible effort to greet as usual—tipping his\n",
      "wide-awake with his stick—all the people whom he knew, the friends,\n",
      "acquaintances, shopkeepers, postmen, drivers. But the gay glance that\n",
      "went with the gesture, the kindly twinkle that seemed to say, “I’m a\n",
      "match and more for any of you”—that old Mr. Neave could not manage at\n",
      "all. He stumped along, lifting his knees high as if he were walking\n",
      "through air that had somehow grown heavy and solid like water. And the\n",
      "homeward-looking crowd hurried by, the trams clanked, the light carts\n",
      "clattered, the big swinging cabs bowled along with that reckless,\n",
      "defiant indifference that one knows only in dreams....\n",
      "https://ucdh.github.io/scraping-garden-party/the-lady-s-maid.html\n",
      "... I hope I haven’t disturbed you, madam. You weren’t asleep—were you?\n",
      "But I’ve just given my lady her tea, and there was such a nice cup\n",
      "over, I thought, perhaps....\n"
     ]
    }
   ],
   "source": [
    "url = 'https://ucdh.github.io/scraping-garden-party/'\n",
    "response = requests.get(url)\n",
    "soup = BeautifulSoup(response.text, \"html.parser\")\n",
    "stories = soup.select('li')\n",
    "for story in stories:\n",
    "    link = story.a \n",
    "    URL = 'https://ucdh.github.io' + link['href']##will return url of the 15 short stories on loop\n",
    "    print(URL)\n",
    "    \n",
    "    response_new = requests.get(URL)\n",
    "    soup_new = BeautifulSoup(response_new.text, \"html.parser\")##will retrieve the html of each short story page\n",
    "    \n",
    "    intro = soup_new.find_all('p', 'introductory-section')#find all the content of the <p> tag in the introductory section\n",
    "    for content in intro:\n",
    "        display = content.text## retrieve text of the <p> tag under introductory section\n",
    "        print(display)\n",
    "    time.sleep(2) ##wait 2 seconds between each requests\n",
    "   "
   ]
  },
  {
   "cell_type": "code",
   "execution_count": 1,
   "metadata": {},
   "outputs": [],
   "source": [
    "import requests\n",
    "import re"
   ]
  },
  {
   "cell_type": "markdown",
   "metadata": {},
   "source": [
    "retrieve the text of the short story _At the Bay_ by Katherine Mansfield."
   ]
  },
  {
   "cell_type": "code",
   "execution_count": 2,
   "metadata": {},
   "outputs": [],
   "source": [
    "url = 'https://raw.githubusercontent.com/ucdh/scraping-garden-party/master/garden-party-corpus/at-the-bay.txt'\n",
    "response = requests.get(url)\n",
    "sample = response.text"
   ]
  },
  {
   "cell_type": "markdown",
   "metadata": {},
   "source": [
    "**Writing a regular expression that matches all words emphasised with italics in this short story.**  \n",
    "Italics are marked in this text file using underscores, eg ```_dear_```"
   ]
  },
  {
   "cell_type": "code",
   "execution_count": 3,
   "metadata": {},
   "outputs": [
    {
     "name": "stdout",
     "output_type": "stream",
     "text": [
      "Words in Italic: ['_whare_', '_cut_', '_there_', '_on_', '_dear_', '_her_', '_me_', '_them_', '_they_', '_Me?_', '_You’re_', '_perishall_', '_liquid_', '_are_', '_do_', '_me_', '_much_', '_Ah!_', '_con_']\n",
      "Total matches: 19\n"
     ]
    }
   ],
   "source": [
    "pattern = r'_[^_]*_'\n",
    "# explanation: the above regular expression matches all words starting and ending with 'underscores _'\n",
    "result = re.findall(pattern, sample)\n",
    "print('Words in Italic:',result)\n",
    "print('Total matches:',len(result))"
   ]
  },
  {
   "cell_type": "markdown",
   "metadata": {},
   "source": [
    "**regular expression that matches the word used before the name `Stanley` (as well as the name itself), eg \"said Stanley\", or \"ruined Stanley\" and also to include instances where Stanley's surname appears as well.**"
   ]
  },
  {
   "cell_type": "code",
   "execution_count": 4,
   "metadata": {},
   "outputs": [
    {
     "name": "stdout",
     "output_type": "stream",
     "text": [
      "words followed by Stanley: ['as Stanley', 'said Stanley', 'irritated\\nStanley', 'thought Stanley', 'said Stanley', 'before Stanley', 'ruined Stanley', 'of Stanley', 'when Stanley', 'As Stanley', 'at\\nStanley', 'opposite Stanley', 'said Stanley', 'was Stanley', 'Has Stanley', 'to Stanley', 'the\\nStanley', 'innocent Stanley', '_her_ Stanley', 'always Stanley', 'that\\nStanley', 'stammered Stanley', 'cried Stanley', 'said Stanley']\n",
      "Total matches: 24\n",
      "\n",
      "words followed by Stanley and Stanley Burnell: [' as Stanley Burnell', 'said Stanley', 'irritated\\nStanley', 'thought Stanley', 'said Stanley', 'before Stanley', 'ruined Stanley', ' of Stanley Burnell', 'when Stanley', 'As Stanley', 'at\\nStanley', 'opposite Stanley', 'said Stanley', 'was Stanley', 'Has Stanley', ' to Stanley Burnell', 'the\\nStanley', 'innocent Stanley', '_her_ Stanley', 'always Stanley', 'that\\nStanley', 'stammered Stanley', ' cried Stanley Burnell', 'said Stanley']\n",
      "Total matches: 24\n"
     ]
    }
   ],
   "source": [
    "pattern = r'[\\w]+\\sStanley'\n",
    "# explanation: the above regular expression matches all words that is followed by the word 'Stanley'\n",
    "result = re.findall(pattern, sample)\n",
    "print('words followed by Stanley:',result)\n",
    "print('Total matches:',len(result))\n",
    "\n",
    "\n",
    "pattern = r'[\\w]+\\sStanley|\\s[\\w]+\\sStanley+\\sBurnell*'\n",
    "# explanation: the above regular expression matches all words that is followed by the word 'Stanley' and also the words that is followed by 'Stanley Burnell'\n",
    "result = re.findall(pattern, sample)\n",
    "print('\\nwords followed by Stanley and Stanley Burnell:',result)\n",
    "print('Total matches:',len(result))"
   ]
  },
  {
   "cell_type": "markdown",
   "metadata": {},
   "source": [
    "**regular expression that matches words that begin with a capital letter and include an apostrophe (right single quote mark). The result will include contractions (eg There's) and possessive forms (eg Beryl's).**\n"
   ]
  },
  {
   "cell_type": "code",
   "execution_count": 5,
   "metadata": {},
   "outputs": [
    {
     "name": "stdout",
     "output_type": "stream",
     "text": [
      "['Stubbs’', 'Burnells’', 'He’d', 'I’m', 'You’re', 'I’ve', 'I’m', 'I’ve', 'He’d', 'Stanley’s', 'He’d', 'I’ve', 'Mother’s', 'Beryl’s', 'How’s', 'I’ve', 'There’s', 'They’ve', 'Linda’s', 'Beryl’s', 'He’s', 'It’s', 'She’s', 'She’s', 'Kezia’s', 'It’s', 'I’m', 'Lottie’s', 'Isabel’s', 'I’ve', 'It’s', 'There’s', 'It’s', 'Pip’s', 'Fairfield’s', 'I’m', 'I’m', 'Fairfield’s', 'It’s', 'Kember’s', 'I’ve', 'Kember’s', 'Don’t', 'Beryl’s', 'That’s', 'Somebody’s', 'Don’t', 'I’d', 'Linda’s', 'Linny’s', 'Beryl’s', 'I’m', 'Don’t', 'Don’t', 'Trouts’', 'We’re', 'You’re_', 'That’s', 'Burnells’', 'Shan’t', 'Stubbs’s', 'STUBBS’S', 'I’ve', 'I’m', 'Many’s', 'That’s', 'It’s', 'Stubbs’s', 'Freedom’s', 'Burnells’', 'It’s', 'It’s', 'I’m', 'I’m', 'I’ll', 'What’ll', 'Kezia’s', 'I’ll', 'I’ll', 'It’s', 'It’s', 'I’ll', 'I’ll', 'It’s', 'I’ll', 'Don’t', 'I’ve', 'I’m', 'You’ve', 'I’ve', 'That’s', 'What’s', 'What’s', 'They’d', 'Chinaman’s', 'Linda’s', 'Beryl’s', 'Burnells’', 'Beryl’s', 'Jonathan’s', 'I’ve', 'It’s', 'That’s', 'I’d', 'I’m', 'God’s', 'I’m', 'I’ve', 'There’s', 'There’s', 'It’s', 'I’m', 'It’s', 'I’m', 'I’ve', 'It’s', 'It’s', 'I’m', 'I’m', 'Kelly’s', 'Burnells’', 'I’ve', 'I’ve', 'I’ve', 'I’ve', 'What’s', 'Let’s', 'You’re', 'You’re', 'It’s', 'It’s', 'I’m', 'I’m', 'Don’t', 'That’s', 'Kember’s', 'You’re', 'She’s', 'Beryl’s', 'Won’t', 'Everybody’s', 'Everybody’s', 'It’s', 'There’s', 'That’s', 'You’re', 'You’re', 'I’m', 'We’ll', 'Don’t', 'Don’t', 'God’s']\n",
      "Total matches: 152\n"
     ]
    }
   ],
   "source": [
    "pattern = r'[A-Z]+[a-z]*\\u2019\\w*' \n",
    "# explanation: the above regular expression matched all words starting with capital letters and includes an apostrophe within them\n",
    "result = re.findall(pattern, sample)\n",
    "print(result)\n",
    "print('Total matches:',len(result))"
   ]
  },
  {
   "cell_type": "code",
   "execution_count": null,
   "metadata": {},
   "outputs": [],
   "source": []
  }
 ],
 "metadata": {
  "celltoolbar": "Create Assignment",
  "kernelspec": {
   "display_name": "Python 3",
   "language": "python",
   "name": "python3"
  },
  "language_info": {
   "codemirror_mode": {
    "name": "ipython",
    "version": 3
   },
   "file_extension": ".py",
   "mimetype": "text/x-python",
   "name": "python",
   "nbconvert_exporter": "python",
   "pygments_lexer": "ipython3",
   "version": "3.7.7"
  }
 },
 "nbformat": 4,
 "nbformat_minor": 2
}
